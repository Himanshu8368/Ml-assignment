{
 "cells": [
  {
   "cell_type": "code",
   "execution_count": 1,
   "metadata": {},
   "outputs": [
    {
     "name": "stdout",
     "output_type": "stream",
     "text": [
      "Slope (m): 5.783289817232377\n",
      "Intercept (b): -3.1462140992167207\n",
      "Predictions: 66.2532637075718\n",
      "RMSE: 33.341009121528785\n",
      "MSE: 1111.6228892418656\n"
     ]
    }
   ],
   "source": [
    "import numpy as np\n",
    "#  see in machine learning mastery\n",
    "# Function to calculate m and b\n",
    "def linear_regression(X, y):\n",
    "    x_mean = np.mean(X)\n",
    "    y_mean = np.mean(y)\n",
    "    numerator = np.sum((X - x_mean) * (y - y_mean))\n",
    "    denominator = np.sum((X - x_mean) ** 2)\n",
    "    m = numerator / denominator\n",
    "    b = y_mean - (m * x_mean)\n",
    "    return m, b\n",
    "\n",
    "# Function to calculate prediction\n",
    "def predict(X, m, b):\n",
    "    return m * X + b\n",
    "\n",
    "# Function to calculate RMSE\n",
    "def rmse(y_true, y_pred):\n",
    "    return np.sqrt(np.mean((y_true - y_pred) ** 2))\n",
    "def mse(y_true, y_pred):\n",
    "    return (np.mean((y_true - y_pred) ** 2))\n",
    "\n",
    "\n",
    "X = np.array([3, 6, 10, 15, 18])\n",
    "Y = np.array([15, 30, 55, 85, 100])\n",
    "\n",
    "# Training the model\n",
    "m, b = linear_regression(X, Y)\n",
    "\n",
    "# Making predictions\n",
    "predictions = predict(12, m, b)\n",
    "\n",
    "# Calculating RMSE\n",
    "error = rmse(Y, predictions)\n",
    "error1 = mse(Y, predictions)\n",
    "print(\"Slope (m):\", m)\n",
    "print(\"Intercept (b):\", b)\n",
    "print(\"Predictions:\", predictions)\n",
    "print(\"RMSE:\", error)\n",
    "print(\"MSE:\", error1)"
   ]
  },
  {
   "cell_type": "code",
   "execution_count": null,
   "metadata": {},
   "outputs": [],
   "source": []
  }
 ],
 "metadata": {
  "kernelspec": {
   "display_name": "Python 3",
   "language": "python",
   "name": "python3"
  },
  "language_info": {
   "codemirror_mode": {
    "name": "ipython",
    "version": 3
   },
   "file_extension": ".py",
   "mimetype": "text/x-python",
   "name": "python",
   "nbconvert_exporter": "python",
   "pygments_lexer": "ipython3",
   "version": "3.11.5"
  }
 },
 "nbformat": 4,
 "nbformat_minor": 2
}
